{
 "cells": [
  {
   "cell_type": "code",
   "execution_count": 123,
   "metadata": {},
   "outputs": [],
   "source": [
    "from PIL import Image\n",
    "import numpy as np\n",
    "import random\n",
    "import os\n",
    "\n",
    "\"\"\"\n",
    "Function find(label,address): \n",
    "    return a random picture labeled 'label' assuming images at address 'address' \n",
    "\"\"\"\n",
    "def find(label=0,address=\"./pictures/\"):\n",
    "    numberOfEachElement = [6903,7877,6990,7141,6824,6313,6876,7293,6825,6958] ; \n",
    "\n",
    "    a = 1 ;\n",
    "    b = numberOfEachElement[label] ; \n",
    "    choice = random.randint(a,b) ;\n",
    "    fileName = str(address)+\"\"+str(label)+\"_\"+str(choice)+\".jpg\" ;\n",
    "    image = Image.open(fileName, 'r')\n",
    "    image.show(np.asarray(image))\n",
    "    image.close()\n",
    "    #comment the above line before deleting '#' from bellow line. \n",
    "    #return image\n",
    "    \n",
    "    \n",
    "\"\"\"\n",
    "    Generate training and testing data. \n",
    "    @Parameters : \n",
    "    Ratio ∈ [0,1] : Training data ratio\n",
    "    label : {0,1,...,9}\n",
    "    \n",
    "\"\"\"\n",
    "def splitData(ratio=0.8,label=0,address=\"./pictures/\",trainingPicturesDestination=\"./trainingPictures/\",testingPicturesDestination=\"./testingPictures/\"):\n",
    "    \"\"\"\n",
    "        Creating directories if not exist\n",
    "    \"\"\"\n",
    "    if not os.path.exists(trainingPicturesDestination):\n",
    "        os.makedirs(trainingPicturesDestination)\n",
    "    if not os.path.exists(testingPicturesDestination):\n",
    "        os.makedirs(testingPicturesDestination)\n",
    "        \n",
    "    numberOfEachElement = [6903,7877,6990,7141,6824,6313,6876,7293,6825,6958] ; \n",
    "    \n",
    "    a = 1 ;\n",
    "    b = numberOfEachElement[label] ;\n",
    "    currentLength = b ; \n",
    "    totalNumber = int(b*ratio)\n",
    "    possibilities = np.arange(a, b+1, 1) ;\n",
    "    \"\"\"\n",
    "        Training dataset\n",
    "    \"\"\"\n",
    "    for i in range(totalNumber):  \n",
    "        choice = random.randint(0,currentLength-1) ;\n",
    "        fileName = (str(address)+str(label)+\"_\"+str(possibilities[choice])+\".jpg\") ;\n",
    "        currentLength = currentLength - 1 ;\n",
    "        possibilities[choice] = possibilities[currentLength] ;\n",
    "        image = Image.open(fileName, 'r') ;\n",
    "        image.save(trainingPicturesDestination+str(label)+\"_\"+str((i+1))+\".jpg\") ;\n",
    "        image.close() ;\n",
    "    \n",
    "    \"\"\"\n",
    "        Testing dataset\n",
    "    \"\"\"\n",
    "    for j in range(currentLength):  \n",
    "        fileName = (str(address)+str(label)+\"_\"+str(possibilities[j])+\".jpg\") ;\n",
    "        image = Image.open(fileName, 'r') ;\n",
    "        image.save(testingPicturesDestination+str(label)+\"_\"+str((j+1))+\".jpg\")\n",
    "        image.close() ;\n",
    "        \n",
    "    print(\"Done,\",totalNumber,\"pictures for training\",b-totalNumber,\"pictures for testing for label\",label) ;"
   ]
  },
  {
   "cell_type": "code",
   "execution_count": 122,
   "metadata": {},
   "outputs": [
    {
     "name": "stdout",
     "output_type": "stream",
     "text": [
      "Done, 6301 pictures for training 1576 pictures for testing\n"
     ]
    }
   ],
   "source": [
    "find(address = \"/Users/dicko/Documents/DICKO/L3/S6/3M101/caracteres/pictures/\") ;\n",
    "splitData(ratio=0.8,label=1) ; "
   ]
  },
  {
   "cell_type": "code",
   "execution_count": null,
   "metadata": {},
   "outputs": [],
   "source": []
  },
  {
   "cell_type": "code",
   "execution_count": null,
   "metadata": {},
   "outputs": [],
   "source": []
  },
  {
   "cell_type": "code",
   "execution_count": null,
   "metadata": {},
   "outputs": [],
   "source": []
  },
  {
   "cell_type": "code",
   "execution_count": null,
   "metadata": {},
   "outputs": [],
   "source": []
  }
 ],
 "metadata": {
  "kernelspec": {
   "display_name": "Python 3",
   "language": "python",
   "name": "python3"
  },
  "language_info": {
   "codemirror_mode": {
    "name": "ipython",
    "version": 3
   },
   "file_extension": ".py",
   "mimetype": "text/x-python",
   "name": "python",
   "nbconvert_exporter": "python",
   "pygments_lexer": "ipython3",
   "version": "3.6.4"
  }
 },
 "nbformat": 4,
 "nbformat_minor": 2
}
