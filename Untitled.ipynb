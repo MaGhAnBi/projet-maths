{
 "cells": [
  {
   "cell_type": "code",
   "execution_count": 1,
   "metadata": {},
   "outputs": [],
   "source": [
    "import DATA_matrice_moyenne as DATA\n",
    "import load_DB as ldb\n",
    "import numpy as np\n",
    "import SVD\n",
    "import generateSVD\n",
    "from scipy.spatial import distance\n",
    "import GenerateTransformedData as generateT\n",
    "import classification as cl\n",
    "\n",
    "Training , Test = ldb.seperateData()\n",
    "\n",
    "derivsTest = ldb.getDerivationDB(\"translateX.mat\")\n"
   ]
  },
  {
   "cell_type": "code",
   "execution_count": null,
   "metadata": {},
   "outputs": [],
   "source": []
  },
  {
   "cell_type": "code",
   "execution_count": 2,
   "metadata": {},
   "outputs": [],
   "source": [
    "generateT.SVD_DB(Training)"
   ]
  },
  {
   "cell_type": "code",
   "execution_count": 3,
   "metadata": {},
   "outputs": [],
   "source": [
    "testdb = [ldb.getData(i) for i in Test]\n",
    "labeltest = [ldb.getLabel(i) for i in Test]"
   ]
  },
  {
   "cell_type": "code",
   "execution_count": 4,
   "metadata": {},
   "outputs": [
    {
     "name": "stdout",
     "output_type": "stream",
     "text": [
      "RESET DATA ...\n"
     ]
    }
   ],
   "source": [
    "ldb.resetDataBase(\"mnist_SVD.mat\")"
   ]
  },
  {
   "cell_type": "code",
   "execution_count": 5,
   "metadata": {},
   "outputs": [
    {
     "name": "stdout",
     "output_type": "stream",
     "text": [
      "200\n"
     ]
    }
   ],
   "source": [
    "print(len(ldb.mnist_data))"
   ]
  },
  {
   "cell_type": "code",
   "execution_count": 6,
   "metadata": {},
   "outputs": [],
   "source": [
    "generateT.translationX_DB(len(ldb.mnist_label),nom = \"SVD\")"
   ]
  },
  {
   "cell_type": "code",
   "execution_count": null,
   "metadata": {},
   "outputs": [],
   "source": []
  },
  {
   "cell_type": "code",
   "execution_count": 14,
   "metadata": {},
   "outputs": [
    {
     "name": "stdout",
     "output_type": "stream",
     "text": [
      "7 7\n"
     ]
    }
   ],
   "source": [
    "derivsTraining = ldb.getDerivationDB(\"translateXSVD.mat\")\n",
    "Training = [i for i in range(len(ldb.mnist_data))]\n",
    "indice = 23\n",
    "print(cl.classificationTangeante(indice,testdb,Training,derivsTest,derivsTraining),labeltest[indice])\n",
    "\n"
   ]
  },
  {
   "cell_type": "code",
   "execution_count": null,
   "metadata": {},
   "outputs": [],
   "source": [
    "total = len(testdb)\n",
    "score = 0\n",
    "for i in range(total//100): \n",
    "    indice = i\n",
    "    score += (cl.classificationTangeante(indice,testdb,Training,derivsTest,derivsTraining) == labeltest[indice])\n",
    "print(score/(total//100))  "
   ]
  },
  {
   "cell_type": "code",
   "execution_count": null,
   "metadata": {},
   "outputs": [],
   "source": []
  },
  {
   "cell_type": "code",
   "execution_count": null,
   "metadata": {},
   "outputs": [],
   "source": []
  }
 ],
 "metadata": {
  "kernelspec": {
   "display_name": "Python 3",
   "language": "python",
   "name": "python3"
  },
  "language_info": {
   "codemirror_mode": {
    "name": "ipython",
    "version": 3
   },
   "file_extension": ".py",
   "mimetype": "text/x-python",
   "name": "python",
   "nbconvert_exporter": "python",
   "pygments_lexer": "ipython3",
   "version": "3.6.4"
  }
 },
 "nbformat": 4,
 "nbformat_minor": 2
}
