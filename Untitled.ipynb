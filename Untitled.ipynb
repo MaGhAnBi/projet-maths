{
 "cells": [
  {
   "cell_type": "code",
   "execution_count": 33,
   "metadata": {},
   "outputs": [
    {
     "data": {
      "text/plain": [
       "'\\nM = ldb.getData(10)\\ntrX = translateX(M,-5)\\ntrY = translateY(M,-0)\\n#translation(trainingData,0)\\n#img = translateX(M,1)\\nplt.imshow(M.reshape(28,28))\\nplt.show()\\nplt.imshow(trX)\\nplt.show()\\nplt.imshow(trY)\\nplt.show()\\n'"
      ]
     },
     "execution_count": 33,
     "metadata": {},
     "output_type": "execute_result"
    }
   ],
   "source": [
    "import numpy as np\n",
    "import load_DB as ldb\n",
    "import PIL\n",
    "import matplotlib.pyplot as plt\n",
    "\n",
    "\"\"\"\n",
    "    Fonction : Translate d'un pas de 'alpha' à toutes les images de la base de données database\n",
    "               en appliquant la translation 'translate'\n",
    "\"\"\"\n",
    "\n",
    "def translation (database,alpha,translate) :\n",
    "    for image in database:\n",
    "        translated = translate(ldb.getData(image),alpha)\n",
    "\n",
    "\"\"\"\n",
    "    translateX : (image : 1x784, alphaX : int  ) ==> imageTranslated : 28x28\n",
    "    Fonction : Translate l'image 'image' de alphaX suivant l'Horizontal\n",
    "\"\"\"\n",
    "\n",
    "def translateX(image,alphaX) :\n",
    "    image = image.reshape((28,28))\n",
    "    imageTranslated = np.zeros(image.shape, dtype=\"int32\")\n",
    "    if alphaX>= 0 :\n",
    "        imageTranslated[:,alphaX:image.shape[1]] = image[:,0:(image.shape[1]-alphaX)] \n",
    "    else :\n",
    "        image = np.flip(image,(0,1))\n",
    "        alphaX = -alphaX\n",
    "        imageTranslated[:,alphaX:image.shape[1]] = image[:,0:(image.shape[1]-alphaX)] \n",
    "        imageTranslated = np.flip(imageTranslated,(0,1))\n",
    "    return imageTranslated\n",
    "\n",
    "\"\"\"\n",
    "    translateY : (image : 1x784, alphaX : int  ) ==> imageTranslated : 28x28\n",
    "    Fonction : Translate l'image 'image' de alphaY suivant la verticale\n",
    "\"\"\"\n",
    "def translateY(image,alphaY) :\n",
    "    image = image.reshape((28,28))\n",
    "    imageTranslated = np.zeros(image.shape, dtype=\"int32\")\n",
    "    if alphaY>= 0 :\n",
    "        imageTranslated[alphaY:image.shape[1],:] = image[0:(image.shape[1]-alphaY),:] \n",
    "    else :\n",
    "        image = np.flip(image,(0,1))\n",
    "        alphaY = -alphaY\n",
    "        imageTranslated[alphaY:image.shape[1],:] = image[0:(image.shape[1]-alphaY),:] \n",
    "        imageTranslated = np.flip(imageTranslated,(0,1))\n",
    "    return imageTranslated\n",
    "    \n",
    "def TangenteClassificationDistance(dataBase,p,translation, p_translation_parameters, e_translation_parameters):\n",
    "    \n",
    "    indice = 0\n",
    "    dmin = np.inf\n",
    "    for e in dataBase :\n",
    "        for alpha in p_translation_parameters:\n",
    "                tp = translation(p,alpha) - p.reshape((28,28))\n",
    "                for beta in e_translation_parameters:\n",
    "                    e_matrix = ldb.getData(dataBase)\n",
    "                    te = translation(e_matrix,beta) - e_matrix.reshape((28,28))\n",
    "                    d = np.linealg.norm(p+tp*alpha - e_matrix - (te*beta))\n",
    "                    if d < dmin : \n",
    "                        d = dmin\n",
    "                        indice = e\n",
    "                        \n",
    "    \n",
    "trainingData,testData = ldb.seperateData()\n",
    "alpha = 10\n",
    "translation(trainingData,alpha,translateX)\n",
    "\"\"\"\n",
    "M = ldb.getData(10)\n",
    "trX = translateX(M,-5)\n",
    "trY = translateY(M,-0)\n",
    "#translation(trainingData,0)\n",
    "#img = translateX(M,1)\n",
    "plt.imshow(M.reshape(28,28))\n",
    "plt.show()\n",
    "plt.imshow(trX)\n",
    "plt.show()\n",
    "plt.imshow(trY)\n",
    "plt.show()\n",
    "\"\"\""
   ]
  },
  {
   "cell_type": "code",
   "execution_count": null,
   "metadata": {},
   "outputs": [],
   "source": []
  },
  {
   "cell_type": "code",
   "execution_count": null,
   "metadata": {},
   "outputs": [],
   "source": []
  }
 ],
 "metadata": {
  "kernelspec": {
   "display_name": "Python 3",
   "language": "python",
   "name": "python3"
  },
  "language_info": {
   "codemirror_mode": {
    "name": "ipython",
    "version": 3
   },
   "file_extension": ".py",
   "mimetype": "text/x-python",
   "name": "python",
   "nbconvert_exporter": "python",
   "pygments_lexer": "ipython3",
   "version": "3.6.4"
  }
 },
 "nbformat": 4,
 "nbformat_minor": 2
}
