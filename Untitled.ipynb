{
 "cells": [
  {
   "cell_type": "code",
   "execution_count": null,
   "metadata": {},
   "outputs": [],
   "source": []
  },
  {
   "cell_type": "code",
   "execution_count": null,
   "metadata": {},
   "outputs": [],
   "source": [
    "import numpy as np\n",
    "from scipy.linalg import qr\n",
    "from scipy.io import savemat\n",
    "import load_DB as ldb\n",
    "import PIL\n",
    "import matplotlib.pyplot as plt\n",
    "from random import randint\n",
    "import GenerateTransformedData as pr\n",
    "import classification as cl"
   ]
  },
  {
   "cell_type": "code",
   "execution_count": 37,
   "metadata": {},
   "outputs": [
    {
     "name": "stdout",
     "output_type": "stream",
     "text": [
      "1993.5598747837444\n",
      "2353.213759946172\n"
     ]
    }
   ],
   "source": [
    "Training, Test = ldb.seperateData()\n",
    "alpha = 4\n",
    "#translationDB(translateX)\n",
    "#ldb.resetDataBase(\"translateX.mat\")\n",
    "derivs = ldb.getDerivationDB(\"translateX.mat\")\n",
    "p = ldb.getData(15)\n",
    "tp = np.array([derivs[15]]).transpose()\n",
    "e = ldb.getData(20)\n",
    "te = np.array([derivs[20]]).transpose()\n",
    "print(pr.TangenteDistance(p,e,tp,te))\n",
    "print(np.linalg.norm(e-p))\n",
    "ldb.afficheChiffre(ldb.getData(15))\n",
    "ldb.afficheChiffre(ldb.getData(20))"
   ]
  },
  {
   "cell_type": "code",
   "execution_count": 18,
   "metadata": {},
   "outputs": [
    {
     "data": {
      "text/plain": [
       "1"
      ]
     },
     "execution_count": 18,
     "metadata": {},
     "output_type": "execute_result"
    }
   ],
   "source": [
    "valeur = 61456\n",
    "ldb.afficheChiffre(ldb.getData(valeur))\n",
    "ldb.getLabel(valeur)"
   ]
  },
  {
   "cell_type": "code",
   "execution_count": null,
   "metadata": {},
   "outputs": [],
   "source": [
    "Training, Test = ldb.seperateData()"
   ]
  },
  {
   "cell_type": "code",
   "execution_count": null,
   "metadata": {},
   "outputs": [],
   "source": [
    "cl.classificationTangeanteY(5,Training)"
   ]
  }
 ],
 "metadata": {
  "kernelspec": {
   "display_name": "Python 3",
   "language": "python",
   "name": "python3"
  },
  "language_info": {
   "codemirror_mode": {
    "name": "ipython",
    "version": 3
   },
   "file_extension": ".py",
   "mimetype": "text/x-python",
   "name": "python",
   "nbconvert_exporter": "python",
   "pygments_lexer": "ipython3",
   "version": "3.6.4"
  }
 },
 "nbformat": 4,
 "nbformat_minor": 2
}
