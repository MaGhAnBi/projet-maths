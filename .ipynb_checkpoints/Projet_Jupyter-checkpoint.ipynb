{
 "cells": [
  {
   "cell_type": "code",
   "execution_count": null,
   "metadata": {},
   "outputs": [],
   "source": [
    "# -*- coding: utf-8 -*-\n",
    "from scipy.io import loadmat\n",
    "import matplotlib.pyplot as plt\n",
    "import numpy as np\n",
    "from PIL import Image\n",
    "\n",
    "# chargement de la base de donnée\n",
    "mnist = loadmat(\"./mnist-original.mat\")\n",
    "mnist_data = mnist[\"data\"].T\n",
    "mnist_label = mnist[\"label\"][0]\n",
    "\n",
    "\n",
    "\n",
    "nbChiffre = [6903, 7877, 6990, 7141, 6824, 6313, 6876, 7293, 6825, 6958]\n",
    "\n",
    "# retourne une liste des indices des chiffres n dans le tableau data\n",
    "def findChiffre(n):\n",
    "    lst = []\n",
    "    for i in range(len(mnist_data)):\n",
    "        if int(mnist_label[i])==n:\n",
    "            lst.append(i)\n",
    "    return lst\n",
    "\n",
    "# retourne les pixel du chiffre de l'indice donné sous forme d'une liste\n",
    "def getData(indice):\n",
    "    if indice>=0 and indice<70000:\n",
    "        return mnist_data[indice]\n",
    "\n",
    "# affiche le chiffre de l'indice donné\n",
    "def afficheChiffre(M):\n",
    "    img = np.array(M)\n",
    "    \n",
    "    for i in range(len(img)):\n",
    "        img[i] = 255-img[i]\n",
    "        \n",
    "    img = img.reshape((28,28))\n",
    "    affichage = Image.fromarray(img,'L')\n",
    "    affichage.show()\n",
    "\n",
    "# retourne le label du chiffre à l'indice donné\n",
    "def getLabel(indice):\n",
    "    if indice>=0 and indice<70000:\n",
    "        return int(mnist_label[indice])\n",
    "\n",
    "# retourne un liste d'indices pour les donnés d'entrainement et une liste d'indice pour les donnés de test\n",
    "def seperateData(ratio = 0.8):\n",
    "    Training = []\n",
    "    Test = []\n",
    "    lst = [findChiffre(i) for i in range(10)]\n",
    "    for n in range(10):\n",
    "        limit = int(ratio*nbChiffre[n])\n",
    "        for i in range(nbChiffre[n]):\n",
    "            if i<limit:\n",
    "                Training.append(lst[n][i])\n",
    "            else:\n",
    "                Test.append(lst[n][i])\n",
    "    return Training, Test\n",
    "\n",
    "def getAllTrainingDataOfLabel(label,ratio = 0.8):\n",
    "    quantite = int(ratio*nbChiffre[label])\n",
    "    count = 0\n",
    "    data = []\n",
    "    indice = 0\n",
    "    while count < quantite:\n",
    "        if mnist_label[indice] == label :\n",
    "            data.append(mnist_data[indice])\n",
    "            count += 1\n",
    "        indice += 1\n",
    "    data = np.array(data)\n",
    "    print(\"OK\")\n",
    "    #return data.transpose()\n"
   ]
  },
  {
   "cell_type": "code",
   "execution_count": null,
   "metadata": {},
   "outputs": [],
   "source": []
  },
  {
   "cell_type": "code",
   "execution_count": null,
   "metadata": {},
   "outputs": [],
   "source": [
    "getAllTrainingDataOfLabel"
   ]
  },
  {
   "cell_type": "code",
   "execution_count": null,
   "metadata": {},
   "outputs": [],
   "source": []
  },
  {
   "cell_type": "code",
   "execution_count": null,
   "metadata": {},
   "outputs": [],
   "source": []
  },
  {
   "cell_type": "code",
   "execution_count": null,
   "metadata": {},
   "outputs": [],
   "source": []
  },
  {
   "cell_type": "code",
   "execution_count": null,
   "metadata": {},
   "outputs": [],
   "source": []
  }
 ],
 "metadata": {
  "kernelspec": {
   "display_name": "Python 3",
   "language": "python",
   "name": "python3"
  },
  "language_info": {
   "codemirror_mode": {
    "name": "ipython",
    "version": 3
   },
   "file_extension": ".py",
   "mimetype": "text/x-python",
   "name": "python",
   "nbconvert_exporter": "python",
   "pygments_lexer": "ipython3",
   "version": "3.6.4"
  }
 },
 "nbformat": 4,
 "nbformat_minor": 2
}
