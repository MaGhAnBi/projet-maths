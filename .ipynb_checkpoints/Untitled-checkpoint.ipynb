{
 "cells": [
  {
   "cell_type": "code",
   "execution_count": 2,
   "metadata": {},
   "outputs": [
    {
     "name": "stdout",
     "output_type": "stream",
     "text": [
      "0.8307626392459297\n"
     ]
    }
   ],
   "source": [
    "import DATA_matrice_moyenne as DATA\n",
    "import load_DB as ldb\n",
    "import numpy as np\n",
    "\n",
    "def classificationMoyenne(indice):\n",
    "    M = ldb.getData(indice)\n",
    "    mini = np.inf\n",
    "    index = 0\n",
    "    for i in range(10):\n",
    "        D = np.subtract(M,DATA.matrice_moyenne[i])\n",
    "        d = np.linalg.norm(D)\n",
    "       \n",
    "        if d<mini:\n",
    "            index = i\n",
    "            mini = d\n",
    "    return index\n",
    "\n",
    "\n",
    "def classificationCosinus(indice):\n",
    "    M = ldb.getData(indice)\n",
    "    bestScore = 0 \n",
    "    index = 0\n",
    "    for i in range(10):\n",
    "        \n",
    "        mean = DATA.matrice_moyenne[i] \n",
    "        dotProduct = M.dot(mean)\n",
    "        normeM =  np.linalg.norm(M)\n",
    "        normeMean =  np.linalg.norm(mean)\n",
    "        distance = dotProduct/(normeM*normeMean) # normeM et normeMean sont forcement differentes de 0\n",
    "        \n",
    "        if bestScore<distance:\n",
    "            index = i\n",
    "            \n",
    "    return index\n",
    "\n",
    "def successRate(Test,algorithme):\n",
    "    label = []\n",
    "    for e in Test:\n",
    "        label.append(algorithme(e))\n",
    "    nbSuccess = 0\n",
    "    for i in range(len(Test)):\n",
    "        if label[i]==ldb.getLabel(Test[i]):\n",
    "            nbSuccess+=1\n",
    "    return nbSuccess/len(Test)\n",
    "\n",
    "Training , Test = ldb.seperateData()\n",
    "\n",
    "print(successRate(Test,classificationMoyenne))\n",
    "\n",
    "print(successRate(Test,classificationCosinus))"
   ]
  },
  {
   "cell_type": "code",
   "execution_count": null,
   "metadata": {},
   "outputs": [],
   "source": []
  }
 ],
 "metadata": {
  "kernelspec": {
   "display_name": "Python 3",
   "language": "python",
   "name": "python3"
  },
  "language_info": {
   "codemirror_mode": {
    "name": "ipython",
    "version": 3
   },
   "file_extension": ".py",
   "mimetype": "text/x-python",
   "name": "python",
   "nbconvert_exporter": "python",
   "pygments_lexer": "ipython3",
   "version": "3.6.4"
  }
 },
 "nbformat": 4,
 "nbformat_minor": 2
}
