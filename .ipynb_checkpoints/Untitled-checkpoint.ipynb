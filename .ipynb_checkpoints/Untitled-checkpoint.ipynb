{
 "cells": [
  {
   "cell_type": "code",
   "execution_count": 12,
   "metadata": {},
   "outputs": [],
   "source": [
    "import DATA_matrice_moyenne as DATA\n",
    "import load_DB as ldb\n",
    "import numpy as np\n",
    "from scipy.sparse import csc_matrix\n",
    "from scipy.sparse.linalg import svds, eigs\n",
    "\n",
    "\n",
    "def classificationMoyenne(indice):\n",
    "    M = ldb.getData(indice)\n",
    "    mini = np.inf\n",
    "    index = 0\n",
    "    for i in range(10):\n",
    "        D = np.subtract(M,DATA.matrice_moyenne[i])\n",
    "        d = np.linalg.norm(D)\n",
    "       \n",
    "        if d<mini:\n",
    "            index = i\n",
    "            mini = d\n",
    "    return index\n",
    "\"\"\"\n",
    "def classificationChebyshev(indice):\n",
    "    M=ldb.getData(indice)\n",
    "    mini=np.inf\n",
    "    index=0\n",
    "    for i in range(10):\n",
    "        d=distance.chebyshev(M,DATA.matrice_moyenne[i])\n",
    "        if d<mini:\n",
    "            index=i\n",
    "            mini=d\n",
    "    return index\n",
    "\"\"\"\n",
    "\"\"\"\n",
    "def classificationMinkowski(indice):\n",
    "    M=ldb.getData(indice)\n",
    "    minimum=np.inf\n",
    "    index=0\n",
    "    for i in range(10):\n",
    "        d=distance.minkowski(M,DATA.matrice_moyenne[i],3)\n",
    "        if d<minimum:\n",
    "            index=i\n",
    "            minimum=d\n",
    " \n",
    "    return index \n",
    "\"\"\"\n",
    "\"\"\"\n",
    "def classificationCorrelation(indice):\n",
    "    M=ldb.getData(indice)\n",
    "    minimum=np.inf\n",
    "    index=0\n",
    "    for i in range(10):\n",
    "        d=distance.correlation(M,DATA.matrice_moyenne[i])\n",
    "        if d<minimum:\n",
    "            index=i\n",
    "            minimum=d\n",
    "    return index\n",
    "\"\"\"\n",
    "\n",
    "\"\"\"\n",
    "def classificationManhattan(indice):\n",
    "    M=ldb.getData(indice)\n",
    "    mini=np.inf\n",
    "    index=0\n",
    "    for i in range(10):\n",
    "        d=distance.cityblock(M,DATA.matrice_moyenne[i])\n",
    "        if d<mini:\n",
    "            index=i\n",
    "            mini=d\n",
    "    return index\n",
    "\"\"\"\n",
    "def classificationCosinus(indice):\n",
    "    M = ldb.getData(indice)\n",
    "    normeM =  np.linalg.norm(M)\n",
    "    bestScore = 0 \n",
    "    index = 0\n",
    "    for i in range(10):\n",
    "        mean = DATA.matrice_moyenne[i] \n",
    "        dotProduct = M.dot(mean)\n",
    "        normeMean =  np.linalg.norm(mean)\n",
    "        cosinus = dotProduct/(normeM*normeMean) # normeM et normeMean sont forcement differentes de 0\n",
    "        if bestScore<cosinus:\n",
    "            index = i\n",
    "            bestScore = cosinus\n",
    "            \n",
    "    return index\n",
    "\n",
    "\"\"\"\n",
    "    \n",
    "\"\"\"\n",
    "\n",
    "def apply_svd (label,basis_size):\n",
    "    data = ldb.getAllTrainingDataOfLabel(label)\n",
    "    print(\"Data loaded\")\n",
    "    U, S, V = scipy.sparse.linalg.svds(data,k = basis_size)\n",
    "    #U, S, V = get_svd(data)\n",
    "    return (U, S, V)\n",
    "\"\"\"\n",
    "    Retourne la liste des K (K<=45) couples de chiffres les plus confondus ainsi que le nombre de fois qu'ils ont été confondus\n",
    "\"\"\"\n",
    "\n",
    "def K_most_confused(matrice,K = 5):\n",
    "    liste = [] \n",
    "    iu1 = np.triu_indices(matrice.shape[0])\n",
    "    matrice = matrice+ matrice.transpose()\n",
    "    matrice[iu1] = -1\n",
    "    for i in range (K) :\n",
    "        position = np.unravel_index(np.argmax(matrice, axis=None), matrice.shape)\n",
    "        liste.append(np.append(np.flip(position,0),matrice[position]).tolist())\n",
    "        matrice[position] = -1\n",
    "    return liste \n",
    "\n",
    "def successRate(Test,algorithme):\n",
    "    label = []\n",
    "    matriceConfusion = np.zeros((10,10),int)\n",
    "    for e in Test:\n",
    "        label.append(algorithme(e))\n",
    "    nbSuccess = 0\n",
    "    for i in range(len(Test)):\n",
    "        if label[i]==ldb.getLabel(Test[i]):\n",
    "            nbSuccess+=1\n",
    "        else :\n",
    "            matriceConfusion[ldb.getLabel(Test[i]),label[i]] +=1\n",
    "    \n",
    "    print(K_most_confused(matriceConfusion))\n",
    "    return nbSuccess/len(Test)\n",
    "\n",
    "#Training , Test = ldb.seperateData()\n",
    "\n",
    "#print(\"Classification Moyenne :\",successRate(Test,classificationMoyenne))\n",
    "\n",
    "#print(\"Classification Cosinus :\",successRate(Test,classificationCosinus))\n"
   ]
  },
  {
   "cell_type": "code",
   "execution_count": null,
   "metadata": {},
   "outputs": [
    {
     "name": "stdout",
     "output_type": "stream",
     "text": [
      "Data loaded\n"
     ]
    }
   ],
   "source": [
    "apply_svd(0,2)"
   ]
  },
  {
   "cell_type": "code",
   "execution_count": null,
   "metadata": {},
   "outputs": [],
   "source": [
    "from scipy.sparse import csc_matrix\n",
    "from scipy.sparse.linalg import svds, eigs\n",
    "A = csc_matrix([[1, 0, 0], [5, 0, 2], [0, -1, 0], [0, 0, 3]], dtype=float)\n",
    "u, s, vt = svds(A, k=2)\n",
    "s\n",
    "\n",
    "np.sqrt(eigs(A.dot(A.T), k=2)[0]).real"
   ]
  },
  {
   "cell_type": "code",
   "execution_count": 1,
   "metadata": {},
   "outputs": [
    {
     "name": "stdout",
     "output_type": "stream",
     "text": [
      "5522\n",
      "6301\n",
      "5592\n",
      "5712\n",
      "5459\n",
      "5050\n",
      "5500\n",
      "5834\n",
      "5460\n",
      "5566\n"
     ]
    }
   ],
   "source": [
    "import load_DB as ldb\n",
    "import numpy as np\n",
    "\n",
    "Training , Test = ldb.seperateData()\n",
    "\n",
    "\"\"\"\n",
    "genere les N premirs vecteurs u_i de l'image du chiffre label\n",
    "\"\"\"\n",
    "def generate_svd_bases(label,Training,N):\n",
    "    data = ldb.findChiffre(label,Training) # trouves les indices correspondant au label\n",
    "    A_c = np.zeros((784,len(data))) \n",
    "    # calcul de la matrice A_c (cf rapport collectif)\n",
    "    for i in range(len(data)):\n",
    "        vecteur_image = ldb.getData(data[i])\n",
    "        for j in range(784):\n",
    "            A_c[j,i] = vecteur_image[j]\n",
    "    \n",
    "    A_c2 = ldb.getAllTrainingDataOfLabel(label)\n",
    "\n",
    "    return data\n",
    "    #U,s,V = np.linalg.svd(A_c)\n",
    "    #U_N = np.array([ np.array(U[:,i]) for i in range(N)]).transpose()\n",
    "    #return U_N\n",
    "\n",
    "bases_SVD = [] # bases_SVD[n] := la base des u_i pour le chiffre n  \n",
    "\n",
    "\n",
    "def init_bases_SVD(N):\n",
    "    for i in range(10):\n",
    "        bases_SVD.append(generate_svd_bases(i,Training,N))\n",
    "\n",
    "#init_bases_SVD(10)"
   ]
  },
  {
   "cell_type": "code",
   "execution_count": 9,
   "metadata": {},
   "outputs": [
    {
     "name": "stdout",
     "output_type": "stream",
     "text": [
      "OK\n",
      "(784, 5923)\n",
      "(784, 5522)\n",
      "False\n"
     ]
    },
    {
     "name": "stderr",
     "output_type": "stream",
     "text": [
      "/Users/dicko/anaconda3/lib/python3.6/site-packages/ipykernel_launcher.py:21: DeprecationWarning: elementwise == comparison failed; this will raise an error in the future.\n"
     ]
    }
   ],
   "source": [
    "dataBase = generate_svd_bases(0,Training,10)"
   ]
  },
  {
   "cell_type": "code",
   "execution_count": 10,
   "metadata": {},
   "outputs": [
    {
     "name": "stdout",
     "output_type": "stream",
     "text": [
      "None\n"
     ]
    }
   ],
   "source": [
    "print((dataBase))"
   ]
  },
  {
   "cell_type": "code",
   "execution_count": null,
   "metadata": {},
   "outputs": [],
   "source": []
  }
 ],
 "metadata": {
  "kernelspec": {
   "display_name": "Python 3",
   "language": "python",
   "name": "python3"
  },
  "language_info": {
   "codemirror_mode": {
    "name": "ipython",
    "version": 3
   },
   "file_extension": ".py",
   "mimetype": "text/x-python",
   "name": "python",
   "nbconvert_exporter": "python",
   "pygments_lexer": "ipython3",
   "version": "3.6.4"
  }
 },
 "nbformat": 4,
 "nbformat_minor": 2
}
