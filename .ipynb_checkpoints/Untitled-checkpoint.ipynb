{
 "cells": [
  {
   "cell_type": "code",
   "execution_count": null,
   "metadata": {},
   "outputs": [
    {
     "name": "stdout",
     "output_type": "stream",
     "text": [
      "[[4, 9, 257], [3, 5, 225], [3, 8, 182], [7, 9, 115], [0, 5, 96]]\n",
      "Classification Moyenne : 0.8307626392459297\n"
     ]
    }
   ],
   "source": [
    "import DATA_matrice_moyenne as DATA\n",
    "import load_DB as ldb\n",
    "import numpy as np\n",
    "\n",
    "def classificationMoyenne(indice):\n",
    "    M = ldb.getData(indice)\n",
    "    mini = np.inf\n",
    "    index = 0\n",
    "    for i in range(10):\n",
    "        D = np.subtract(M,DATA.matrice_moyenne[i])\n",
    "        d = np.linalg.norm(D)\n",
    "       \n",
    "        if d<mini:\n",
    "            index = i\n",
    "            mini = d\n",
    "    return index\n",
    "\n",
    "\n",
    "def classificationCosinus(indice):\n",
    "    M = ldb.getData(indice)\n",
    "    normeM =  np.linalg.norm(M)\n",
    "    bestScore = 0 \n",
    "    index = 0\n",
    "    for i in range(10):\n",
    "        mean = DATA.matrice_moyenne[i] \n",
    "        dotProduct = M.dot(mean)\n",
    "        normeMean =  np.linalg.norm(mean)\n",
    "        cosinus = dotProduct/(normeM*normeMean) # normeM et normeMean sont forcement differentes de 0\n",
    "        if bestScore<cosinus:\n",
    "            index = i\n",
    "            bestScore = cosinus\n",
    "            \n",
    "    return index\n",
    "\n",
    "\"\"\"\n",
    "    Retourne la liste des K (K<=45) couples de chiffres les plus confondus ainsi que le nombre de fois qu'ils ont été confondus\n",
    "\"\"\"\n",
    "def K_most_confused(matrice,K = 5):\n",
    "    liste = [] \n",
    "    iu1 = np.triu_indices(matrice.shape[0])\n",
    "    matrice = matrice+ matrice.transpose()\n",
    "    matrice[iu1] = -1\n",
    "    for i in range (K) :\n",
    "        position = np.unravel_index(np.argmax(matrice, axis=None), matrice.shape)\n",
    "        liste.append(np.append(np.flip(position,0),matrice[position]).tolist())\n",
    "        matrice[position] = -1\n",
    "    return liste \n",
    "\n",
    "def successRate(Test,algorithme):\n",
    "    label = []\n",
    "    matriceConfusion = np.zeros((10,10),int)\n",
    "    for e in Test:\n",
    "        label.append(algorithme(e))\n",
    "    nbSuccess = 0\n",
    "    for i in range(len(Test)):\n",
    "        if label[i]==ldb.getLabel(Test[i]):\n",
    "            nbSuccess+=1\n",
    "        else :\n",
    "            matriceConfusion[ldb.getLabel(Test[i]),label[i]] +=1\n",
    "    \n",
    "    print(K_most_confused(matriceConfusion))\n",
    "    return nbSuccess/len(Test)\n",
    "\n",
    "Training , Test = ldb.seperateData()\n",
    "\n",
    "print(\"Classification Moyenne :\",successRate(Test,classificationMoyenne))\n",
    "\n",
    "print(\"Classification Cosinus :\",successRate(Test,classificationCosinus))"
   ]
  },
  {
   "cell_type": "code",
   "execution_count": null,
   "metadata": {},
   "outputs": [],
   "source": []
  },
  {
   "cell_type": "code",
   "execution_count": null,
   "metadata": {},
   "outputs": [],
   "source": []
  },
  {
   "cell_type": "code",
   "execution_count": null,
   "metadata": {},
   "outputs": [],
   "source": []
  }
 ],
 "metadata": {
  "kernelspec": {
   "display_name": "Python 3",
   "language": "python",
   "name": "python3"
  },
  "language_info": {
   "codemirror_mode": {
    "name": "ipython",
    "version": 3
   },
   "file_extension": ".py",
   "mimetype": "text/x-python",
   "name": "python",
   "nbconvert_exporter": "python",
   "pygments_lexer": "ipython3",
   "version": "3.6.4"
  }
 },
 "nbformat": 4,
 "nbformat_minor": 2
}
